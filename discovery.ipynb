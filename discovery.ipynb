{
 "cells": [
  {
   "cell_type": "code",
   "execution_count": null,
   "metadata": {},
   "outputs": [],
   "source": [
    "import os\n",
    "import argparse\n",
    "import json\n",
    "import jax\n",
    "import jax.numpy as jnp\n",
    "import numpy as np\n",
    "import pandas as pd\n",
    "from sklearn.preprocessing import StandardScaler, MinMaxScaler\n",
    "from typing import *\n",
    "from dibs.utils import visualize_ground_truth\n",
    "from dibs.models import ErdosReniDAGDistribution, ScaleFreeDAGDistribution, BGe\n",
    "from dibs.inference import JointDiBS, MarginalDiBS\n",
    "from dibs.graph_utils import elwise_acyclic_constr_nograd\n",
    "from jax.scipy.special import logsumexp\n",
    "os.environ[\"XLA_PYTHON_CLIENT_MEM_FRACTION\"]=\".9\"\n",
    "\n",
    "import myUtils\n",
    "from myUtils import *\n",
    "\n"
   ]
  },
  {
   "cell_type": "code",
   "execution_count": null,
   "metadata": {},
   "outputs": [],
   "source": [
    "model_name = \"4\"\n",
    "\n",
    "ling_cols = json.load(\n",
    "    open(\n",
    "    )\n",
    ")\n",
    "original_df = pd.read_csv(\n",
    ")\n",
    "\n",
    "cm_cols = [\n",
    "    \"black\",\n",
    "    \"syntaxError_rate\",\n",
    "    \"sta_codeBleu\",\n",
    "    \"sta_Bleu\",\n",
    "    \"sim_codeBleu\",\n",
    "    \"sim_Bleu\",\n",
    "    \"pass_rate\",\n",
    "    \"error_rate\",\n",
    "    \"timeout_rate\",\n",
    "]\n",
    "\n",
    "selected_cols = ling_cols + cm_cols\n",
    "selected_df = original_df[selected_cols]"
   ]
  },
  {
   "cell_type": "code",
   "execution_count": null,
   "metadata": {},
   "outputs": [],
   "source": [
    "\n",
    "def matrix_to_dgraph(matrix: np.ndarray, columns: List[str], threshold: float = 1.0) -> List[str]:\n",
    "    dgraph = []\n",
    "    for i in range(matrix.shape[0]):\n",
    "        for j in range(matrix.shape[1]):\n",
    "            if matrix[i, j] >= threshold:\n",
    "                dgraph.append(f\"{columns[i]} -> {columns[j]}\")\n",
    "    return dgraph\n",
    "\n",
    "\n",
    "def compute_expected_graph(*, dist):\n",
    "    \"\"\"\n",
    "    Computes expected graph \n",
    "\n",
    "    Args:\n",
    "        dist (:class:`dibs.metrics.ParticleDistribution`): particle distribution\n",
    "    Returns: \n",
    "        expected Graph \n",
    "    \"\"\"\n",
    "    n_vars = dist.g.shape[1]\n",
    "\n",
    "    # select acyclic graphs\n",
    "    is_dag = elwise_acyclic_constr_nograd(dist.g, n_vars) == 0\n",
    "    assert is_dag.sum() > 0,  \"No acyclic graphs found\"\n",
    "\n",
    "    particles = dist.g[is_dag, :, :]\n",
    "    log_weights = dist.logp[is_dag] - logsumexp(dist.logp[is_dag])\n",
    "\n",
    "    # compute expected graph\n",
    "    expected_g = jnp.zeros_like(particles[0])\n",
    "    for i in range(particles.shape[0]):\n",
    "        expected_g += jnp.exp(log_weights[i]) * particles[i, :, :]\n",
    "\n",
    "    return expected_g\n",
    "\n"
   ]
  },
  {
   "cell_type": "code",
   "execution_count": null,
   "metadata": {},
   "outputs": [],
   "source": [
    "rand_key = jax.random.PRNGKey(0)"
   ]
  },
  {
   "cell_type": "code",
   "execution_count": null,
   "metadata": {},
   "outputs": [],
   "source": [
    "collected_df = selected_df.copy()\n",
    "collected_df = collected_df.loc[:, collected_df.var() > 1e-5]\n",
    "collected_df.replace([np.inf, -np.inf], np.nan, inplace=True)\n",
    "collected_df.dropna(inplace=True)\n",
    "collected_df = collected_df.sample(frac=1).reset_index(drop=True)\n",
    "print(f\"Collected data shape: {collected_df.shape}\")\n",
    "print(f\"Collected data columns: {collected_df.columns}\")\n",
    "\n",
    "scaler = StandardScaler()\n",
    "collected_data = scaler.fit_transform(collected_df)\n",
    "\n",
    "model_graph = ScaleFreeDAGDistribution(collected_data.shape[1], n_edges_per_node=5)\n",
    "# model_graph = ErdosReniDAGDistribution(collected_data.shape[1], n_edges_per_node=5)\n",
    "model = BGe(graph_dist=model_graph)\n",
    "dibs = MarginalDiBS(x=collected_data, interv_mask=None, inference_model=model)\n"
   ]
  },
  {
   "cell_type": "code",
   "execution_count": null,
   "metadata": {},
   "outputs": [],
   "source": [
    "rand_key, subk = jax.random.split(rand_key)\n",
    "# steps = 13000\n",
    "# gs = dibs.sample(key=subk, n_particles=50, steps=13000, callback_every=1000, callback=dibs.visualize_callback())\n",
    "gs = dibs.sample(key=subk, n_particles=10, steps=4000, callback_every=500, callback=dibs.visualize_callback())"
   ]
  },
  {
   "cell_type": "code",
   "execution_count": null,
   "metadata": {},
   "outputs": [],
   "source": [
    "dibs_output = dibs.get_mixture(gs)\n",
    "# dibs_output = dibs.get_empirical(gs)\n",
    "expected_g = compute_expected_graph(dist=dibs_output)\n"
   ]
  },
  {
   "cell_type": "code",
   "execution_count": null,
   "metadata": {},
   "outputs": [],
   "source": [
    "dibs_output.logp"
   ]
  },
  {
   "cell_type": "code",
   "execution_count": null,
   "metadata": {},
   "outputs": [],
   "source": [
    "visualize_ground_truth(jnp.array(expected_g), )"
   ]
  },
  {
   "cell_type": "code",
   "execution_count": null,
   "metadata": {},
   "outputs": [],
   "source": [
    "dgraph = matrix_to_dgraph(expected_g, collected_df.columns, threshold=0.1)\n",
    "print(len(dgraph))\n",
    "for line in dgraph:\n",
    "    print(line)\n"
   ]
  }
 ],
 "metadata": {
  "kernelspec": {
   "display_name": "Python 3",
   "language": "python",
   "name": "python3"
  },
  "language_info": {
   "codemirror_mode": {
    "name": "ipython",
    "version": 3
   },
   "file_extension": ".py",
   "mimetype": "text/x-python",
   "name": "python",
   "nbconvert_exporter": "python",
   "pygments_lexer": "ipython3",
   "version": "3.11.4"
  },
  "orig_nbformat": 4
 },
 "nbformat": 4,
 "nbformat_minor": 2
}
