{
 "cells": [
  {
   "cell_type": "code",
   "execution_count": null,
   "metadata": {},
   "outputs": [],
   "source": [
    "import os\n",
    "import json\n",
    "import pandas as pd\n",
    "import numpy as np\n",
    "from scipy.stats import pearsonr"
   ]
  },
  {
   "cell_type": "code",
   "execution_count": null,
   "metadata": {},
   "outputs": [],
   "source": [
    "# read all csv in the folder\n",
    "root_path = \"\"\n",
    "original_df = pd.DataFrame()\n",
    "rephrased_df = pd.DataFrame()\n",
    "\n",
    "for root, dirs, files in os.walk(root_path):\n",
    "    # if root.endswith(\"merged\"):\n",
    "    #     continue\n",
    "    for file in files:\n",
    "        if file.endswith(\".csv\"):\n",
    "            file_name = file.split(\".\")[0]\n",
    "            split_name, mark = file_name.split(\"_\")\n",
    "            # if split_name == \"test\":\n",
    "            #     continue\n",
    "            if mark.startswith(\"original\"):\n",
    "                df = pd.read_csv(root + file)\n",
    "                df[\"split_name\"] = split_name\n",
    "                print(f\"Read {file_name} with shape {df.shape}\")\n",
    "                original_df = pd.concat([original_df, df])\n",
    "            elif mark.startswith(\"rephrased\"):\n",
    "                df = pd.read_csv(root + file)\n",
    "                df[\"split_name\"] = split_name\n",
    "                print(f\"Read {file_name} with shape {df.shape}\")\n",
    "                rephrased_df = pd.concat([rephrased_df, df])\n",
    "            else:\n",
    "                print(f\"Error: file name: {file_name} is not correct!\")\n",
    "                "
   ]
  },
  {
   "cell_type": "code",
   "execution_count": null,
   "metadata": {},
   "outputs": [],
   "source": [
    "rephrased_df = rephrased_df[rephrased_df[\"re_idx\"] == 0]\n",
    "\n",
    "feat_cols = list(\n",
    "    set(original_df.columns) - set([\"p_idx\", \"question_NL\", \"question_example\", \"difficulty\", \"split_name\"])\n",
    ")\n",
    "\n",
    "# merge two dataframes based on the p_idx\n",
    "merged_df = pd.merge(original_df, rephrased_df, on=[\"p_idx\", \"split_name\"], suffixes=(\"_original\", \"_rephrased\"), ).dropna()\n",
    "\n",
    "# convert Instruction to one-hot encoding\n",
    "merged_df = pd.get_dummies(merged_df, columns=[\"Instruction\", \"Role\", \"Scenario\"], prefix=[\"Inst\", \"Role\", \"Scen\"])\n",
    "# drop colum \"re_idx\"\n",
    "merged_df = merged_df.drop(columns=[\"Inst_None\", \"Role_None\", \"Scen_None\"])\n",
    "\n",
    "instruction_cols = [\"long\",\"short\",\"formal\",\"fluent\",\"technical\",\"logical\"]\n",
    "role_cols = [\"student\",\"programmer\",\"competitor\"]\n",
    "scenario_cols = [\"clearer\",\"improve\",\"specify\"]"
   ]
  }
 ],
 "metadata": {
  "kernelspec": {
   "display_name": "nlp",
   "language": "python",
   "name": "python3"
  },
  "language_info": {
   "codemirror_mode": {
    "name": "ipython",
    "version": 3
   },
   "file_extension": ".py",
   "mimetype": "text/x-python",
   "name": "python",
   "nbconvert_exporter": "python",
   "pygments_lexer": "ipython3",
   "version": "3.11.3"
  },
  "orig_nbformat": 4
 },
 "nbformat": 4,
 "nbformat_minor": 2
}
